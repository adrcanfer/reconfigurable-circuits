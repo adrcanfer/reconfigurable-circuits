{
 "cells": [
  {
   "cell_type": "markdown",
   "metadata": {},
   "source": [
    "# Reparación automática de circuitos reconfigurables"
   ]
  },
  {
   "cell_type": "markdown",
   "metadata": {},
   "source": [
    "### Objetivo 1: Estructura de datos"
   ]
  },
  {
   "cell_type": "markdown",
   "metadata": {},
   "source": [
    "En primer lugar vamos a implementar una estructura de datos para el circuito. El método recibe como parámetros:\n",
    "    - m: número de capas del circuito\n",
    "    - n: número de puertas en cada capa\n",
    "    - programacionPuertas: lista con la programación de cada puerta\n",
    "    - inputs: conexiones de cada puerta\n",
    "    "
   ]
  },
  {
   "cell_type": "code",
   "execution_count": 1,
   "metadata": {},
   "outputs": [],
   "source": [
    "def estructura_circuito(m,n, programacionPuertas, inputs):\n",
    "    estructura = []\n",
    "    for i in range (m):\n",
    "        puertas = [];\n",
    "        for j in range(n):\n",
    "            puertas.append([programacionPuertas[(i*n)+j], inputs[(i*n)+j]]);\n",
    "        estructura.append(puertas);\n",
    "    return estructura;\n",
    "\n"
   ]
  },
  {
   "cell_type": "markdown",
   "metadata": {},
   "source": [
    "A continuación se muestra el circuito al que vamos a buscar la solución."
   ]
  },
  {
   "cell_type": "code",
   "execution_count": 2,
   "metadata": {},
   "outputs": [
    {
     "data": {
      "text/plain": [
       "\"\\nprogramacionPuertas = ['OR', 'OR', '--', '--', '--', '--','AND', 'OR', '--', '--', 'NOT','--', '--', '--', '--']\\nconexiones = [[0,1], \\n              [0,1],\\n              [2,3],\\n              [2,3],\\n              [3,4],\\n              [[0,0],[0,1]],\\n              [[0,0],[0,1]],\\n              [[0,1],[0,0]],\\n              [[0,2],[0,3]],\\n              [[0,3],[0,4]],\\n              [[1,1],[1,2]],\\n              [[1,3],[1,4]],\\n              [[1,3],[1,4]],\\n              [[1,3],[1,4]],\\n              [[1,3],[1,4]]]\\nncapas = 3;\\nnpuertas = 5;\\n\\ncircuito = estructura_circuito(ncapas,npuertas, programacionPuertas, conexiones);\\n\""
      ]
     },
     "execution_count": 2,
     "metadata": {},
     "output_type": "execute_result"
    }
   ],
   "source": [
    "#Circuito 1\n",
    "\n",
    "programacionPuertas = ['OR', 'OR', 'NOT', '--'];\n",
    "conexiones = [[0,1], \n",
    "              [0,1],\n",
    "              [[0,0],[0,1]],\n",
    "              [[0,0],[0,1]]];\n",
    "\n",
    "ncapas = 2;\n",
    "npuertas = 2;\n",
    "circuito = estructura_circuito(ncapas,npuertas, programacionPuertas, conexiones);\n",
    "\n",
    "#Circuito 2\n",
    "\"\"\"\n",
    "programacionPuertas = ['OR', 'OR', '--','AND', 'OR', 'NOT'];\n",
    "conexiones = [[0,1], \n",
    "              [0,1],\n",
    "              [1,2],\n",
    "              [[0,0],[0,1]],\n",
    "              [[0,0],[0,1]],\n",
    "              [[0,2],[0,1]]];\n",
    "ncapas = 2;\n",
    "npuertas = 3;\n",
    "circuito = estructura_circuito(ncapas,npuertas, programacionPuertas, conexiones);\n",
    "\"\"\"\n",
    "#Circuito 3\n",
    "\"\"\"\n",
    "programacionPuertas = ['OR', 'OR', '--', '--','AND', 'OR',  'NOT','--', '--'];\n",
    "conexiones = [[0,1], \n",
    "              [0,1],\n",
    "              [1,2],\n",
    "              [[0,0],[0,1]],\n",
    "              [[0,0],[0,1]],\n",
    "              [[0,0],[0,1]],\n",
    "              [[1,1],[1,2]],\n",
    "              [[1,0],[1,2]],\n",
    "              [[1,0],[1,1]]];\n",
    "ncapas = 3;\n",
    "npuertas = 3;\n",
    "\n",
    "circuito = estructura_circuito(ncapas,npuertas, programacionPuertas, conexiones);\n",
    "\"\"\"\n",
    "\n",
    "#Circuito 4\n",
    "\"\"\"\n",
    "programacionPuertas = ['OR', 'OR', '--', '--', '--', '--','AND', 'OR', '--', '--', 'NOT','--', '--', '--', '--']\n",
    "conexiones = [[0,1], \n",
    "              [0,1],\n",
    "              [2,3],\n",
    "              [2,3],\n",
    "              [3,4],\n",
    "              [[0,0],[0,1]],\n",
    "              [[0,0],[0,1]],\n",
    "              [[0,1],[0,0]],\n",
    "              [[0,2],[0,3]],\n",
    "              [[0,3],[0,4]],\n",
    "              [[1,1],[1,2]],\n",
    "              [[1,3],[1,4]],\n",
    "              [[1,3],[1,4]],\n",
    "              [[1,3],[1,4]],\n",
    "              [[1,3],[1,4]]]\n",
    "ncapas = 3;\n",
    "npuertas = 5;\n",
    "\n",
    "circuito = estructura_circuito(ncapas,npuertas, programacionPuertas, conexiones);\n",
    "\"\"\""
   ]
  },
  {
   "cell_type": "code",
   "execution_count": 3,
   "metadata": {},
   "outputs": [
    {
     "data": {
      "text/plain": [
       "[[['OR', [0, 1]], ['OR', [0, 1]]],\n",
       " [['NOT', [[0, 0], [0, 1]]], ['--', [[0, 0], [0, 1]]]]]"
      ]
     },
     "execution_count": 3,
     "metadata": {},
     "output_type": "execute_result"
    }
   ],
   "source": [
    "circuito"
   ]
  },
  {
   "cell_type": "markdown",
   "metadata": {},
   "source": [
    "### Objetivo 2: Simulador de circuitos"
   ]
  },
  {
   "cell_type": "markdown",
   "metadata": {},
   "source": [
    "En segundo lugar se implementa una función que actua como simulador de circuitos. \n",
    "La primera función determina la salida de una capa en función de los vectores salida de las dos capas anteriores. \n",
    "La segunda función va capa por capa llamando a la función anterior y devuelve la salida esperada si el circuito no estuviera defectuoso.\n",
    "Por último la tercera función se encarga de generar un circuito contemplando las puertas defectuosas para junto con la funciones anteriores poder calcular el vector de salida que se obtiene en el circuito defectuoso y poder evaluarlo."
   ]
  },
  {
   "cell_type": "code",
   "execution_count": 4,
   "metadata": {},
   "outputs": [],
   "source": [
    "import copy\n",
    "def resultado_circuito_capas (vector_entrada1, vector_entrada2, circuito, i, n):\n",
    "    vector_salida = []\n",
    "    if(i == 0):\n",
    "        for j in range(n):\n",
    "            puerta = circuito[i][j][0]\n",
    "            conexiones_iniciales = circuito[i][j][1]\n",
    "            if(puerta == 'AND'):\n",
    "                if(vector_entrada2[conexiones_iniciales[0]] + vector_entrada2[conexiones_iniciales[1]] == 2):\n",
    "                    vector_salida.append(1)\n",
    "                else:\n",
    "                    vector_salida.append(0)\n",
    "                    \n",
    "                \n",
    "            if(puerta == 'OR'):\n",
    "                if(vector_entrada2[conexiones_iniciales[0]] + vector_entrada2[conexiones_iniciales[1]] >= 1):\n",
    "                    vector_salida.append(1)\n",
    "                else:\n",
    "                    vector_salida.append(0)\n",
    "                  \n",
    "            if(puerta == 'NOT'):\n",
    "                if(vector_entrada2[conexiones_iniciales[0]] == 0):\n",
    "                    vector_salida.append(1)\n",
    "                else:\n",
    "                    vector_salida.append(0)\n",
    "                  \n",
    "            if(puerta == 'NAND'):\n",
    "                if(vector_entrada2[conexiones_iniciales[0]] + vector_entrada2[conexiones_iniciales[1]] == 2):\n",
    "                    vector_salida.append(0)\n",
    "                else:\n",
    "                    vector_salida.append(1)\n",
    "                \n",
    "            if(puerta == 'XOR'):\n",
    "                if(vector_entrada2[conexiones_iniciales[0]] + vector_entrada2[conexiones_iniciales[1]] == 1):\n",
    "                    vector_salida.append(1)\n",
    "                else:\n",
    "                    vector_salida.append(0)\n",
    "               \n",
    "            if(puerta == '--'):\n",
    "                    vector_salida.append(0)     \n",
    "    if(i > 0):\n",
    "        for j in range(n):\n",
    "            puerta = circuito[i][j][0]\n",
    "            conexiones = circuito[i][j][1]\n",
    "            valor1 = 0\n",
    "            valor2 = 0\n",
    "            if(puerta == 'AND'):\n",
    "                if(conexiones[0][0] == i-2):\n",
    "                    valor1 = vector_entrada1[conexiones[0][1]]\n",
    "                else:\n",
    "                    valor1 = vector_entrada2[conexiones[0][1]]\n",
    "                if(conexiones[1][0] == i-2):\n",
    "                    valor2 = vector_entrada1[conexiones[1][1]]\n",
    "                else:\n",
    "                    valor2 = vector_entrada2[conexiones[1][1]]\n",
    "                if(valor1 + valor2 == 2):\n",
    "                    vector_salida.append(1)\n",
    "                else:\n",
    "                    vector_salida.append(0)\n",
    "           \n",
    "                \n",
    "            if(puerta == 'OR'):\n",
    "                if(conexiones[0][0] == i-2):\n",
    "                    valor1 = vector_entrada1[conexiones[0][1]]\n",
    "                else:\n",
    "                    valor1 = vector_entrada2[conexiones[0][1]]\n",
    "                if(conexiones[1][0] == i-2):\n",
    "                    valor2 = vector_entrada1[conexiones[1][1]]\n",
    "                else:\n",
    "                    valor2 = vector_entrada2[conexiones[1][1]]\n",
    "                if(valor1 + valor2 >= 1):\n",
    "                    vector_salida.append(1)\n",
    "                else:\n",
    "                    vector_salida.append(0)\n",
    "                    \n",
    "              \n",
    "            if(puerta == 'NOT'):\n",
    "                if(conexiones[0][0] == i-2):\n",
    "                    valor1 = vector_entrada1[conexiones[0][1]]\n",
    "                else:\n",
    "                    valor1 = vector_entrada2[conexiones[0][1]]\n",
    "                \n",
    "                if(valor1 == 0):\n",
    "                    vector_salida.append(1)\n",
    "                else:\n",
    "                    vector_salida.append(0)\n",
    "                    \n",
    "                    \n",
    "              \n",
    "            if(puerta == 'NAND'):\n",
    "                if(conexiones[0][0] == i-2):\n",
    "                    valor1 = vector_entrada1[conexiones[0][1]]\n",
    "                else:\n",
    "                    valor1 = vector_entrada2[conexiones[0][1]]\n",
    "                if(conexiones[1][0] == i-2):\n",
    "                    valor2 = vector_entrada1[conexiones[1][1]]\n",
    "                else:\n",
    "                    valor2 = vector_entrada2[conexiones[1][1]]\n",
    "                \n",
    "                if(valor1 + valor2 == 2):\n",
    "                    vector_salida.append(0)\n",
    "                else:\n",
    "                    vector_salida.append(1)\n",
    "              \n",
    "              \n",
    "            if(puerta == 'XOR'):\n",
    "                if(conexiones[0][0] == i-2):\n",
    "                    valor1 = vector_entrada1[conexiones[0][1]]\n",
    "                else:\n",
    "                    valor1 = vector_entrada2[conexiones[0][1]]\n",
    "                if(conexiones[1][0] == i-2):\n",
    "                    valor2 = vector_entrada1[conexiones[1][1]]\n",
    "                else:\n",
    "                    valor2 = vector_entrada2[conexiones[1][1]]\n",
    "                \n",
    "                if(valor1 + valor2 == 1):\n",
    "                    vector_salida.append(1)\n",
    "                else:\n",
    "                    vector_salida.append(0)\n",
    "            \n",
    "            if(puerta == '--'):\n",
    "                    vector_salida.append(0)     \n",
    "              \n",
    "             \n",
    "    return vector_salida;\n",
    "\n",
    "def resultado_circuito (vector_entrada1, vector_entrada2, circuito, m, n):\n",
    "    vector_salida = []\n",
    "    for i in range(m):\n",
    "        vector_salida = resultado_circuito_capas (vector_entrada1, vector_entrada2, circuito, i, n)\n",
    "        vector_entrada1 = vector_entrada2\n",
    "        vector_entrada2 = vector_salida\n",
    "    return vector_entrada2\n",
    "\n",
    "def circuito_defectuoso (puertas_defectuosas, programacionPuertas, conexiones, ncapas, npuertas):\n",
    "    circuito = estructura_circuito(ncapas,npuertas, programacionPuertas, conexiones)\n",
    "    for i in range(len(puertas_defectuosas)):\n",
    "        circuito[puertas_defectuosas[i][0]][puertas_defectuosas[i][1]][0] = '--'\n",
    "        \n",
    "    return circuito"
   ]
  },
  {
   "cell_type": "markdown",
   "metadata": {},
   "source": [
    "Utilizando el ejemplo anterior calculamos el vector de salida correcto y el obtenido si el circuito estuviera defectuoso"
   ]
  },
  {
   "cell_type": "code",
   "execution_count": 5,
   "metadata": {
    "scrolled": true
   },
   "outputs": [
    {
     "name": "stdout",
     "output_type": "stream",
     "text": [
      "Vector de salida: \n",
      "[0, 0]\n",
      "Vector de salida defectuoso: \n",
      "[1, 0]\n"
     ]
    }
   ],
   "source": [
    "#vector_entrada1 = [0,0]\n",
    "#vector_entrada2 = [1,0]\n",
    "#puertas_defectuosas = [[0,0]]\n",
    "\n",
    "vector_entrada1 = [0,0,0,0,0]\n",
    "vector_entrada2 = [1,1,1,0,0]\n",
    "puertas_defectuosas = [[0,0]]\n",
    "\n",
    "vector_salida = resultado_circuito (vector_entrada1.copy(), vector_entrada2.copy(), circuito, ncapas, npuertas)\n",
    "circuitoDefectuoso = circuito_defectuoso(puertas_defectuosas.copy(), programacionPuertas, conexiones, ncapas, npuertas)\n",
    "vector_salida_defectuoso = resultado_circuito(vector_entrada1.copy(), vector_entrada2.copy(), circuitoDefectuoso, ncapas, npuertas)\n",
    "print(\"Vector de salida: \")\n",
    "print(vector_salida)\n",
    "print(\"Vector de salida defectuoso: \")\n",
    "print(vector_salida_defectuoso)\n"
   ]
  },
  {
   "cell_type": "markdown",
   "metadata": {},
   "source": [
    "### Objetivo 3: Auto-diagnóstico"
   ]
  },
  {
   "cell_type": "markdown",
   "metadata": {},
   "source": [
    "A continuación vamos a construir un método que nos permita detectar si un circuito está actuando de forma correcta. Para ello en primer lugar definimos los vectores de entrada que vamos a utilizar para la comprobación. Después definimos un método que nos calcula los vectores de salida a partir de esos vectores iniciales. También hemos definido un método que modifica el tamaño de esos vectores de entrada en función del circuito que queramos evaluar para no tener que estar modificando manualmente esos valores. Por último definimos el método de auto-diagnóstico que recibe los vectores de entrada iniciales, el circuito original y el circuito a comprobar y nos devuelve el número de acierto en %."
   ]
  },
  {
   "cell_type": "code",
   "execution_count": 6,
   "metadata": {},
   "outputs": [],
   "source": [
    "vectores_entrada_inicial= [[0,0,0],[0,0,1],[0,1,0],[0,1,1],[1,0,0],[1,0,1],[1,1,0],[1,1,1]]\n",
    "\n",
    "def f_vectores_salida(vectores_entrada,vector_entrada1,circuito,ncapas,npuertas):\n",
    "    vec_salida=[]\n",
    "    vectores_entrada_nuevo= calcula_vectores_entrada(vectores_entrada,npuertas)\n",
    "    for i in range(len(vectores_entrada_nuevo)):\n",
    "        vec_salida.append(resultado_circuito(vector_entrada1,vectores_entrada_nuevo[i],circuito,ncapas,npuertas))\n",
    "    return vec_salida\n",
    "\n",
    "#para n mayor que tres, cada vector de entrada se le añadirá un cero, es decir, si n fuese 5, el primer vector de entrada\n",
    "#seria [0,0,0,0,0] y el segundo seria [0,0,1,0,0]. Se le añade tantos ceros según la diferencia de n-3\n",
    "def calcula_vectores_entrada(vectores_entrada,npuertas):\n",
    "    vectores_entrada_nuevo= vectores_entrada\n",
    "\n",
    "    if(npuertas<3):\n",
    "        for i in range(len(vectores_entrada_nuevo)):\n",
    "            vectores_entrada_nuevo.pop()\n",
    "        vectores_entrada_nuevo.append([0,0])\n",
    "        vectores_entrada_nuevo.append([0,1])\n",
    "        vectores_entrada_nuevo.append([1,0])\n",
    "        vectores_entrada_nuevo.append([1,1])\n",
    "    elif (npuertas>3):\n",
    "        vectores_entrada_nuevo=vectores_entrada\n",
    "        for i in range(len(vectores_entrada)):\n",
    "            for j in range(3,npuertas):\n",
    "                vectores_entrada_nuevo[i].append(0)\n",
    "    return vectores_entrada_nuevo\n",
    "\n",
    "\n",
    "def auto_diagnostico(vectores_entrada_inicial,vector_entrada1,circuitoR,circuitoComp,ncapas,npuertas):\n",
    "    res= False\n",
    "    #Vectores de entrada\n",
    "    vectores_e=calcula_vectores_entrada(vectores_entrada_inicial.copy(),npuertas)\n",
    "    \n",
    "    #Vectores de salida del circuito real\n",
    "    vectores_s= f_vectores_salida(vectores_entrada_inicial.copy(),vector_entrada1.copy(),circuitoR,ncapas,npuertas)\n",
    "    \n",
    "    #Vectores de salida del circuito que vamos a comprobar\n",
    "    vectoresSalidaCircuitoComprobar= f_vectores_salida(vectores_entrada_inicial.copy(),vector_entrada1.copy(),circuitoComp,ncapas,npuertas)\n",
    "    \n",
    "    \n",
    "    iguales=0\n",
    "    for i in range(len(vectores_s)):\n",
    "        if(vectores_s[i] == vectoresSalidaCircuitoComprobar[i]):\n",
    "            iguales= iguales + 1\n",
    "            \n",
    "    if(iguales == len(vectores_s)):\n",
    "        res=True\n",
    "    porcentajeAcierto = iguales/len(vectores_s)\n",
    "    #print(\"Porcentaje de acierto: \" + str(iguales/len(vectores_s)))\n",
    "    return porcentajeAcierto\n",
    "            \n",
    "    \n",
    "\n",
    "\n"
   ]
  },
  {
   "cell_type": "code",
   "execution_count": 7,
   "metadata": {},
   "outputs": [
    {
     "name": "stdout",
     "output_type": "stream",
     "text": [
      "Vectores de entrada: [[0, 0], [0, 1], [1, 0], [1, 1]]\n",
      "Vectores de salida del circuito real: [[1, 0], [0, 0], [0, 0], [0, 0]]\n",
      "Vectores de salida del circuito a comprobar: [[1, 0], [1, 0], [1, 0], [1, 0]]\n",
      "0.25\n"
     ]
    }
   ],
   "source": [
    "print(\"Vectores de entrada: \" + str(calcula_vectores_entrada(vectores_entrada_inicial,npuertas)))\n",
    "print(\"Vectores de salida del circuito real: \" + str(f_vectores_salida(vectores_entrada_inicial.copy(),vector_entrada1.copy(), circuito,ncapas,npuertas)))\n",
    "\n",
    "circuitoComprobar= circuito_defectuoso(puertas_defectuosas.copy(), programacionPuertas, conexiones, ncapas, npuertas)\n",
    "print(\"Vectores de salida del circuito a comprobar: \" + str(f_vectores_salida(vectores_entrada_inicial.copy(),vector_entrada1.copy(), circuitoComprobar,ncapas,npuertas)))\n",
    "\n",
    "print(auto_diagnostico(vectores_entrada_inicial,vector_entrada1.copy(),circuito,circuitoComprobar,ncapas,npuertas))\n"
   ]
  },
  {
   "cell_type": "markdown",
   "metadata": {},
   "source": [
    "### Objetivo 4: Algoritmo Genético"
   ]
  },
  {
   "cell_type": "markdown",
   "metadata": {},
   "source": [
    "Vamos a implementar un algoritmo genético que nos encuentre buenos circuitos alternativos. En primer lugar importamos los módulos necesarios. Es posible que no tenga instalado el paquete  [DEAP](http://deap.readthedocs.org/en/1.0.x/) puesto que no viene por defecto, por tanto lo primero que debemos hacer es instalarlo."
   ]
  },
  {
   "cell_type": "code",
   "execution_count": 8,
   "metadata": {},
   "outputs": [
    {
     "name": "stderr",
     "output_type": "stream",
     "text": [
      "D:\\Anaconda3\\lib\\site-packages\\deap\\tools\\_hypervolume\\pyhv.py:33: ImportWarning: Falling back to the python version of hypervolume module. Expect this to be very slow.\n",
      "  \"module. Expect this to be very slow.\", ImportWarning)\n"
     ]
    }
   ],
   "source": [
    "import random\n",
    "from deap import base, creator, tools, algorithms\n",
    "import numpy"
   ]
  },
  {
   "cell_type": "markdown",
   "metadata": {},
   "source": [
    "A continuación creamos la clase fitness e indicamos que nuestro algorimo va a ser de maximización. Después creamos la clase individuo y por último especificamos el gen y el tamaño del cromosoma a usar. El gen va de 0 a 5 si el circuito es de 2x2 o de 0 a número de puertas totales - 1. El individuo tiene un tamaño de 3 x número de puertas totales (a partir de ahora np). Los genes de 0 a np-1 van referidos a las puertas y de np a 3x np - 1 van referidos a las conexiones."
   ]
  },
  {
   "cell_type": "code",
   "execution_count": 9,
   "metadata": {},
   "outputs": [],
   "source": [
    "creator.create('Fitness', base.Fitness, weights=(1.0,))\n",
    "creator.create('Individuo', list, fitness = creator.Fitness)\n",
    "caja_de_herramientas = base.Toolbox()\n",
    "if(ncapas*npuertas < 6 ):\n",
    "    caja_de_herramientas.register('gen', random.randint, 0, 5)\n",
    "else:\n",
    "    caja_de_herramientas.register('gen', random.randint, 0, ncapas*npuertas-1)\n",
    "caja_de_herramientas.register('individuo', tools.initRepeat,\n",
    "                              container=creator.Individuo, func=caja_de_herramientas.gen, n=3*ncapas*npuertas)\n",
    "caja_de_herramientas.register('población', tools.initRepeat,\n",
    "                              container=list, func=caja_de_herramientas.individuo, n=25)\n",
    "\n"
   ]
  },
  {
   "cell_type": "markdown",
   "metadata": {},
   "source": [
    "Podemos considerar que cada puerta puede ser programada de 6 formas:\n",
    "    - No programada (--) que será representada con el gen 0.\n",
    "    - AND que se representa con el gen 1.\n",
    "    - OR que se representa con el gen 2.\n",
    "    - NOT que se representa con el gen 3.\n",
    "    - XOR que se representa con el gen 4.\n",
    "    - NAND que se representa con el gen 5."
   ]
  },
  {
   "cell_type": "code",
   "execution_count": 10,
   "metadata": {},
   "outputs": [
    {
     "name": "stdout",
     "output_type": "stream",
     "text": [
      "3\n",
      "5\n",
      "0\n",
      "2\n",
      "2\n"
     ]
    }
   ],
   "source": [
    "random.seed(12345)  # Semilla para el mecanismo de generación de números aleatorios\n",
    "for _ in range(5):\n",
    "    print(caja_de_herramientas.gen())"
   ]
  },
  {
   "cell_type": "code",
   "execution_count": 11,
   "metadata": {},
   "outputs": [
    {
     "data": {
      "text/plain": [
       "[3, 5, 0, 2, 2, 1, 2, 4, 3, 1, 2, 0]"
      ]
     },
     "execution_count": 11,
     "metadata": {},
     "output_type": "execute_result"
    }
   ],
   "source": [
    "random.seed(12345)\n",
    "caja_de_herramientas.individuo()"
   ]
  },
  {
   "cell_type": "code",
   "execution_count": 12,
   "metadata": {},
   "outputs": [
    {
     "data": {
      "text/plain": [
       "[[3, 5, 0, 2, 2, 1, 2, 4, 3, 1, 2, 0],\n",
       " [3, 2, 4, 5, 1, 4, 4, 1, 2, 5, 5, 0],\n",
       " [4, 5, 3, 4, 4, 1, 1, 1, 5, 0, 1, 2],\n",
       " [2, 0, 3, 2, 0, 4, 5, 5, 3, 0, 0, 5],\n",
       " [1, 4, 1, 2, 0, 5, 3, 0, 5, 4, 1, 5],\n",
       " [3, 1, 4, 4, 5, 2, 0, 1, 0, 3, 1, 5],\n",
       " [4, 5, 1, 2, 4, 3, 4, 1, 0, 1, 2, 0],\n",
       " [1, 1, 2, 4, 2, 1, 3, 2, 0, 0, 0, 5],\n",
       " [3, 0, 3, 1, 0, 5, 2, 1, 5, 4, 0, 3],\n",
       " [4, 0, 0, 5, 3, 2, 4, 3, 4, 1, 2, 5],\n",
       " [5, 0, 4, 1, 0, 3, 1, 2, 1, 1, 1, 1],\n",
       " [2, 1, 4, 0, 4, 5, 0, 1, 0, 5, 3, 1],\n",
       " [4, 0, 2, 4, 3, 0, 3, 3, 1, 1, 1, 0],\n",
       " [2, 2, 1, 3, 1, 1, 4, 5, 4, 1, 3, 4],\n",
       " [5, 3, 2, 0, 0, 5, 3, 5, 1, 5, 4, 4],\n",
       " [1, 5, 1, 4, 1, 2, 4, 2, 1, 4, 4, 5],\n",
       " [5, 0, 2, 3, 0, 2, 4, 4, 4, 0, 5, 0],\n",
       " [1, 2, 5, 5, 0, 2, 5, 3, 5, 2, 3, 2],\n",
       " [3, 4, 2, 2, 5, 3, 3, 0, 2, 3, 0, 1],\n",
       " [2, 1, 0, 5, 5, 0, 0, 0, 4, 1, 3, 3],\n",
       " [1, 2, 2, 1, 2, 5, 2, 3, 0, 4, 2, 2],\n",
       " [0, 3, 1, 1, 0, 1, 2, 1, 2, 3, 1, 0],\n",
       " [1, 0, 4, 0, 2, 3, 2, 0, 1, 0, 3, 1],\n",
       " [4, 1, 2, 4, 4, 2, 1, 5, 2, 0, 0, 0],\n",
       " [4, 1, 4, 4, 5, 3, 4, 0, 4, 1, 4, 4]]"
      ]
     },
     "execution_count": 12,
     "metadata": {},
     "output_type": "execute_result"
    }
   ],
   "source": [
    "random.seed(12345)\n",
    "caja_de_herramientas.población()"
   ]
  },
  {
   "cell_type": "code",
   "execution_count": 13,
   "metadata": {},
   "outputs": [],
   "source": [
    "def fenotipo(individuo):\n",
    "    programacionPuertas = []\n",
    "    conexiones = []\n",
    "    cuentaPuerta = ncapas*npuertas;\n",
    "    for i in range(2*ncapas*npuertas):\n",
    "        if(i< ncapas*npuertas):\n",
    "            programacionPuertas.append(decodePuerta(individuo[i]))\n",
    "        else:\n",
    "            conexionPuertaI =[]\n",
    "            conexionPuertaI.append(decodeConexion(individuo[cuentaPuerta]))  \n",
    "            cuentaPuerta = cuentaPuerta + 1\n",
    "            conexionPuertaI.append(decodeConexion(individuo[cuentaPuerta]))\n",
    "            cuentaPuerta = cuentaPuerta + 1\n",
    "            conexiones.append(conexionPuertaI)\n",
    "            \n",
    "    return programacionPuertas, conexiones\n",
    "\n",
    "def decodePuerta(gen):\n",
    "    if gen == 0:\n",
    "        programacion = '--'\n",
    "    elif gen == 1:\n",
    "        programacion = 'AND'\n",
    "    elif gen == 2:\n",
    "        programacion = 'OR'\n",
    "    elif gen == 3:\n",
    "        programacion = 'NOT'\n",
    "    elif gen == 4:\n",
    "        programacion = 'XOR'\n",
    "    elif gen == 5:\n",
    "        programacion = 'NAND'\n",
    "    else:\n",
    "        programacion = 'IAE'\n",
    "    return programacion\n",
    "\n",
    "def decodeConexion(conexion):\n",
    "    puerta = []\n",
    "    if(conexion < npuertas):\n",
    "        puerta = conexion\n",
    "    else:\n",
    "        for i in range(ncapas):\n",
    "            if(conexion - (i+1)*npuertas < npuertas and conexion - (i+1)*npuertas >= 0):\n",
    "                puerta.append(i)\n",
    "                puerta.append(conexion - (i+1)*npuertas)\n",
    "       \n",
    "    return puerta \n",
    "\n",
    "def penalizaConexiones(circuito):\n",
    "    penalizacion = 0;\n",
    "    for i in range(ncapas):\n",
    "        if (i == 0):\n",
    "            for j in range(npuertas):\n",
    "                conex1 = -1\n",
    "                conex2 = -2\n",
    "                if (type(circuito[i][j][1][0]) != int):\n",
    "                    penalizacion = penalizacion + 1\n",
    "                else:\n",
    "                    conex1 = circuito[i][j][1][0]\n",
    "                    \n",
    "                if (type(circuito[i][j][1][1]) != int):\n",
    "                    penalizacion = penalizacion + 1\n",
    "                else:\n",
    "                    conex2 = circuito[i][j][1][1]\n",
    "                \n",
    "                if(conex1 == conex2):\n",
    "                    penalizacion = penalizacion + 1\n",
    "        if(i > 0):\n",
    "             for j in range(npuertas):\n",
    "                conex1 = [-1,-1]\n",
    "                conex2 = [-2,-5]\n",
    "               \n",
    "                if (type(circuito[i][j][1][0]) == int):\n",
    "                    penalizacion = penalizacion + 1\n",
    "                   \n",
    "                else:\n",
    "                   \n",
    "                    if (circuito[i][j][1][0][0] >= i or circuito[i][j][1][0][0] < i-2):\n",
    "                        penalizacion = penalizacion +1\n",
    "                    conex1 = circuito[i][j][1][0]\n",
    "                if (type(circuito[i][j][1][1]) == int):\n",
    "                    penalizacion = penalizacion + 1\n",
    "                else:\n",
    "                    if (circuito[i][j][1][1][0] >= i or circuito[i][j][1][1][0] < i-2):\n",
    "                        penalizacion = penalizacion +1\n",
    "                    conex2 = circuito[i][j][1][1]\n",
    "                    \n",
    "                if(conex1 == conex2):\n",
    "                    penalizacion = penalizacion + 1\n",
    "    return penalizacion\n",
    "\n",
    "def penalizaPuertas(progPuertas):\n",
    "    penalizacionPuertas = 0\n",
    "    for i in range(len(progPuertas)):\n",
    "        if progPuertas[i] == 'IAE':\n",
    "            penalizacionPuertas = penalizacionPuertas +1;\n",
    "    return penalizacionPuertas\n",
    "\n",
    "def evaluar_individuo(individuo):\n",
    "    penalizacion = 0\n",
    "    progPuertas, conex = fenotipo(individuo)\n",
    "    circuitoAG = estructura_circuito(ncapas,npuertas,  progPuertas, conex)\n",
    "    penalizacion = penalizaConexiones(circuitoAG)\n",
    "    penalizacion = penalizacion + penalizaPuertas(progPuertas)\n",
    "    if penalizacion == 0:\n",
    "        acierto = auto_diagnostico(vectores_entrada_inicial,vector_entrada1.copy(),circuito,circuitoAG,ncapas,npuertas);\n",
    "    else:\n",
    "        acierto = -penalizacion\n",
    "    return (acierto,)\n",
    "    \n",
    "caja_de_herramientas.register('evaluate', evaluar_individuo)    "
   ]
  },
  {
   "cell_type": "markdown",
   "metadata": {},
   "source": [
    "Ahora vamos a registrar los operadores a utilizar en el algoritmo genético, en concreto vamos a registrar los vistos en la práctica. También se añadirá como método de selección de individuos el método de selección por torneo."
   ]
  },
  {
   "cell_type": "code",
   "execution_count": 14,
   "metadata": {},
   "outputs": [],
   "source": [
    "caja_de_herramientas.register('mate', tools.cxOnePoint)\n",
    "caja_de_herramientas.register('mutate', tools.mutFlipBit, indpb=0.1)\n",
    "caja_de_herramientas.register('select', tools.selTournament, tournsize=3)"
   ]
  },
  {
   "cell_type": "code",
   "execution_count": 15,
   "metadata": {},
   "outputs": [
    {
     "data": {
      "text/plain": [
       "[[5, 0, 4, 1, 0, 3, 1, 2, 1, 1, 1, 1], [3, 1, 4, 4, 5, 2, 0, 1, 0, 3, 1, 5]]"
      ]
     },
     "execution_count": 15,
     "metadata": {},
     "output_type": "execute_result"
    }
   ],
   "source": [
    "random.seed(12345)\n",
    "P = caja_de_herramientas.población()\n",
    "caja_de_herramientas.select(P, 2)"
   ]
  },
  {
   "cell_type": "markdown",
   "metadata": {},
   "source": [
    "Ya tenemos todo lo necesario, por tanto vamos a buscar una solución para el circuito que hemos definido anteriormente. "
   ]
  },
  {
   "cell_type": "code",
   "execution_count": 16,
   "metadata": {},
   "outputs": [],
   "source": [
    "def resuelveCircuito():\n",
    "    import time\n",
    "    startTime =  time.time()\n",
    "    cuentaCV = 0\n",
    "    mejorInd = []\n",
    "    maxVal = 0\n",
    "    maxValDef = -1.0\n",
    "    diagnosticoCF = 0;\n",
    "    mejorRegistro = [];\n",
    "    \n",
    "    estadísticas = tools.Statistics(lambda ind: ind.fitness.values)\n",
    "    estadísticas.register(\"mínimo\", numpy.min)\n",
    "    estadísticas.register(\"media\", numpy.mean)\n",
    "    estadísticas.register(\"máximo\", numpy.max)\n",
    "    #salón_fama = tools.HallOfFame(3)\n",
    "\n",
    "    for i in range(50000):\n",
    "        random.seed(i)\n",
    "        población_inicial = caja_de_herramientas.población()\n",
    "        población_final, registro = algorithms.eaSimple(población_inicial,\n",
    "                                                caja_de_herramientas,\n",
    "                                                cxpb=0.5,  # Probabilidad de cruzamiento\n",
    "                                                mutpb=0.3,  # Probabilidad de mutación\n",
    "                                                ngen=50,  # Número de generaciones\n",
    "                                                stats=estadísticas,\n",
    "                                                #halloffame=salón_fama,\n",
    "                                                verbose = False)\n",
    "    \n",
    "   \n",
    "        for individuo in población_final:\n",
    "            if(caja_de_herramientas.evaluate(individuo)[0] >= maxVal):\n",
    "                cuentaCV = cuentaCV + 1;\n",
    "                progP, conex = fenotipo(individuo)\n",
    "                circuitoDefectuoso = circuito_defectuoso(puertas_defectuosas.copy(), progP, conex, ncapas, npuertas)\n",
    "                diagnosticoCF = auto_diagnostico(vectores_entrada_inicial,vector_entrada1.copy(),circuito,circuitoDefectuoso,ncapas,npuertas);\n",
    "                if(diagnosticoCF >= maxValDef):\n",
    "                    maxVal = caja_de_herramientas.evaluate(individuo)[0]\n",
    "                    maxValDef = diagnosticoCF\n",
    "                    mejorInd = individuo\n",
    "                    mejorRegistro = registro\n",
    "                \n",
    "            if(diagnosticoCF == 1):\n",
    "                break\n",
    "        if(diagnosticoCF == 1):\n",
    "            break\n",
    "    stopTime =  time.time()\n",
    "    time = stopTime - startTime;\n",
    "    if(cuentaCV == 0):\n",
    "        print(\"No ha encontrado ningún circuito válido\")\n",
    "        print (\"Ha tardado %d segundos.\" % (time))\n",
    "    else:\n",
    "        print(\"---RESULTADO---\")\n",
    "        print(\"Rendimiento: \" + str(maxVal))\n",
    "        print(\"Rendimiento considerando las puertas defectuosas: \" + str(maxValDef))\n",
    "        prog, conex = fenotipo(mejorInd)\n",
    "        circuitoRes = estructura_circuito(ncapas,npuertas,  prog, conex)\n",
    "        print(\"---Circuito inicial---\")\n",
    "        print(circuito)\n",
    "        print(\"---Circuito equivalente---\")\n",
    "        print(circuitoRes)\n",
    "        print(\"---Registro---\")\n",
    "        print(mejorRegistro)\n",
    "        print (\"Ha tardado %d segundos.\" % (time))\n",
    "           "
   ]
  },
  {
   "cell_type": "code",
   "execution_count": 17,
   "metadata": {},
   "outputs": [
    {
     "name": "stdout",
     "output_type": "stream",
     "text": [
      "---RESULTADO---\n",
      "Rendimiento: 1.0\n",
      "Rendimiento considerando las puertas defectuosas: 1.0\n",
      "---Circuito inicial---\n",
      "[[['OR', [0, 1]], ['OR', [0, 1]]], [['NOT', [[0, 0], [0, 1]]], ['--', [[0, 0], [0, 1]]]]]\n",
      "---Circuito equivalente---\n",
      "[[['--', [1, 0]], ['OR', [1, 0]]], [['NOT', [[0, 1], [0, 0]]], ['AND', [[0, 0], [0, 1]]]]]\n",
      "---Registro---\n",
      "gen\tnevals\tmínimo\tmedia\tmáximo\n",
      "0  \t25    \t-7    \t-5.08\t-2    \n",
      "1  \t17    \t-5    \t-3.84\t-2    \n",
      "2  \t20    \t-6    \t-3.12\t-1    \n",
      "3  \t18    \t-4    \t-2.04\t-1    \n",
      "4  \t12    \t-2    \t-1.64\t-1    \n",
      "5  \t18    \t-2    \t-1.38\t0.5   \n",
      "6  \t14    \t-4    \t-1.16\t0.5   \n",
      "7  \t18    \t-3    \t-1.08\t0.5   \n",
      "8  \t13    \t-2    \t-0.92\t0.5   \n",
      "9  \t15    \t-3    \t-0.77\t1     \n",
      "10 \t16    \t-2    \t-0.58\t1     \n",
      "11 \t9     \t-3    \t-0.08\t1     \n",
      "12 \t10    \t-2    \t0.16 \t1     \n",
      "13 \t15    \t-3    \t0.31 \t1     \n",
      "14 \t15    \t-2    \t0.44 \t1     \n",
      "15 \t17    \t-1    \t0.66 \t1     \n",
      "16 \t14    \t-2    \t0.64 \t1     \n",
      "17 \t17    \t1     \t1    \t1     \n",
      "18 \t17    \t-1    \t0.89 \t1     \n",
      "19 \t18    \t-2    \t0.56 \t1     \n",
      "20 \t16    \t-2    \t0.5  \t1     \n",
      "21 \t14    \t-2    \t0.4  \t1     \n",
      "22 \t18    \t-2    \t0.28 \t1     \n",
      "23 \t14    \t-2    \t0.48 \t1     \n",
      "24 \t17    \t-2    \t0.75 \t1     \n",
      "25 \t18    \t-2    \t0.23 \t1     \n",
      "26 \t15    \t-2    \t0.31 \t1     \n",
      "27 \t14    \t-2    \t0.35 \t1     \n",
      "28 \t19    \t-2    \t0.35 \t1     \n",
      "29 \t18    \t-2    \t0.71 \t1     \n",
      "30 \t12    \t-1    \t0.51 \t1     \n",
      "31 \t16    \t-1    \t0.51 \t1     \n",
      "32 \t17    \t-2    \t0.52 \t1     \n",
      "33 \t14    \t-2    \t0.69 \t1     \n",
      "34 \t13    \t-2    \t0.6  \t1     \n",
      "35 \t16    \t-2    \t0.69 \t1     \n",
      "36 \t19    \t-2    \t0.64 \t1     \n",
      "37 \t14    \t-2    \t0.79 \t1     \n",
      "38 \t18    \t-1    \t0.91 \t1     \n",
      "39 \t14    \t-3    \t0.4  \t1     \n",
      "40 \t17    \t-2    \t0.47 \t1     \n",
      "41 \t16    \t-2    \t0.61 \t1     \n",
      "42 \t16    \t-2    \t0.44 \t1     \n",
      "43 \t15    \t-3    \t0.44 \t1     \n",
      "44 \t12    \t-2    \t0.7  \t1     \n",
      "45 \t16    \t-3    \t0.55 \t1     \n",
      "46 \t16    \t-2    \t0.75 \t1     \n",
      "47 \t18    \t-1    \t0.67 \t1     \n",
      "48 \t15    \t-2    \t0.63 \t1     \n",
      "49 \t17    \t-2    \t0.56 \t1     \n",
      "50 \t16    \t-2    \t0.46 \t1     \n",
      "Ha tardado 14 segundos.\n"
     ]
    }
   ],
   "source": [
    "resuelveCircuito()\n"
   ]
  },
  {
   "cell_type": "code",
   "execution_count": null,
   "metadata": {},
   "outputs": [],
   "source": []
  },
  {
   "cell_type": "code",
   "execution_count": null,
   "metadata": {},
   "outputs": [],
   "source": []
  }
 ],
 "metadata": {
  "kernelspec": {
   "display_name": "Python 3",
   "language": "python",
   "name": "python3"
  },
  "language_info": {
   "codemirror_mode": {
    "name": "ipython",
    "version": 3
   },
   "file_extension": ".py",
   "mimetype": "text/x-python",
   "name": "python",
   "nbconvert_exporter": "python",
   "pygments_lexer": "ipython3",
   "version": "3.6.4"
  }
 },
 "nbformat": 4,
 "nbformat_minor": 2
}
