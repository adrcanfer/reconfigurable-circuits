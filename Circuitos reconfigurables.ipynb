{
 "cells": [
  {
   "cell_type": "markdown",
   "metadata": {},
   "source": [
    "# Reparación automática de circuitos reconfigurables"
   ]
  },
  {
   "cell_type": "markdown",
   "metadata": {},
   "source": [
    "En primer lugar vamos a implementar una estructura de datos para el circuito. El método recibe como parámetros\n",
    "    - m: número de capas del circuito\n",
    "    - n: número de puertas en cada capa\n",
    "    - programacionPuertas: lista con la programación de cada puerta\n",
    "    - inputs: conexiones de cada puerta\n",
    "    "
   ]
  },
  {
   "cell_type": "code",
   "execution_count": 1,
   "metadata": {},
   "outputs": [],
   "source": [
    "def estructura_circuito(m,n, programacionPuertas, inputs):\n",
    "    estructura = []\n",
    "    for i in range (m):\n",
    "        puertas = [];\n",
    "        for j in range(n):\n",
    "            puertas.append([programacionPuertas[(i*n)+j], inputs[(i*n)+j]]);\n",
    "        estructura.append(puertas);\n",
    "    return estructura;\n",
    "\n"
   ]
  },
  {
   "cell_type": "markdown",
   "metadata": {},
   "source": [
    "A continuación se muestra un ejemplo de un circuito"
   ]
  },
  {
   "cell_type": "code",
   "execution_count": 62,
   "metadata": {},
   "outputs": [],
   "source": [
    "#programacionPuertasReal = ['AND', 'OR', '--', 'NOT', 'AND', 'OR','NOT', 'XOR', '--', '--', '--', 'NOT', 'NOT', 'AND', 'NAND']\n",
    "#conexionesReal = [[0,1], \n",
    "#              [1,2],\n",
    "#              [2,3],\n",
    "#              [3,4],\n",
    "#              [2,4],\n",
    "#              [[0,0],[0,1]],\n",
    "#              [[0,0],[0,1]],\n",
    "#              [[0,1],[0,2]],\n",
    "#              [[0,3],[0,4]],\n",
    "#              [[0,3],[0,4]],\n",
    "#              [[0,0],[1,0]],\n",
    "#              [[1,0],[1,1]],\n",
    "#              [[1,1],[1,2]],\n",
    "#              [[1,2],[0,3]],\n",
    "#              [[1,3],[1,4]]]\n",
    "programacionPuertasReal = ['OR', 'OR', '--', 'NOT', 'NOT', '--']\n",
    "conexionesReal = [[0,1], \n",
    "              [1,2],\n",
    "              [0,2],\n",
    "              [[0,0],[0,1]],\n",
    "              [[0,1],[0,2]],\n",
    "              [[0,0],[0,2]]]\n",
    "#ncapas = 3\n",
    "ncapas = 2\n",
    "#npuertas = 5\n",
    "npuertas = 3\n",
    "circuitoReal = estructura_circuito(ncapas,npuertas, programacionPuertasReal, conexionesReal)"
   ]
  },
  {
   "cell_type": "code",
   "execution_count": 63,
   "metadata": {},
   "outputs": [
    {
     "data": {
      "text/plain": [
       "[[['OR', [0, 1]], ['OR', [1, 2]], ['--', [0, 2]]],\n",
       " [['NOT', [[0, 0], [0, 1]]],\n",
       "  ['NOT', [[0, 1], [0, 2]]],\n",
       "  ['--', [[0, 0], [0, 2]]]]]"
      ]
     },
     "execution_count": 63,
     "metadata": {},
     "output_type": "execute_result"
    }
   ],
   "source": [
    "circuitoReal"
   ]
  },
  {
   "cell_type": "markdown",
   "metadata": {},
   "source": [
    "En segundo lugar se implementa una función que actua como simulador de circuitos. \n",
    "La primera función determina la salida de una capa en función de los vectores salida de las dos capas anteriores. \n",
    "La segunda función va capa por capa llamando a la función anterior y devuelve la salida esperada si el circuito no estuviera defectuoso.\n",
    "Por último la tercera función se encarga de obtener el generar un circuito contemplando las puertas defectuosas para poder pasarselo a la segunda función y obtener el vector de salida obtenido."
   ]
  },
  {
   "cell_type": "code",
   "execution_count": 4,
   "metadata": {},
   "outputs": [],
   "source": [
    "import copy\n",
    "def resultado_circuito_capas (vector_entrada1, vector_entrada2, circuito, i, n):\n",
    "    vector_salida = []\n",
    "    if(i == 0):\n",
    "        for j in range(n):\n",
    "            puerta = circuito[i][j][0]\n",
    "            conexiones_iniciales = circuito[i][j][1]\n",
    "            if(puerta == 'AND'):\n",
    "                if(vector_entrada2[conexiones_iniciales[0]] + vector_entrada2[conexiones_iniciales[1]] == 2):\n",
    "                    vector_salida.append(1)\n",
    "                else:\n",
    "                    vector_salida.append(0)\n",
    "                    \n",
    "                \n",
    "            if(puerta == 'OR'):\n",
    "                if(vector_entrada2[conexiones_iniciales[0]] + vector_entrada2[conexiones_iniciales[1]] >= 1):\n",
    "                    vector_salida.append(1)\n",
    "                else:\n",
    "                    vector_salida.append(0)\n",
    "                  \n",
    "            if(puerta == 'NOT'):\n",
    "                if(vector_entrada2[conexiones_iniciales[0]] == 0):\n",
    "                    vector_salida.append(1)\n",
    "                else:\n",
    "                    vector_salida.append(0)\n",
    "                  \n",
    "            if(puerta == 'NAND'):\n",
    "                if(vector_entrada2[conexiones_iniciales[0]] + vector_entrada2[conexiones_iniciales[1]] == 2):\n",
    "                    vector_salida.append(0)\n",
    "                else:\n",
    "                    vector_salida.append(1)\n",
    "                \n",
    "            if(puerta == 'XOR'):\n",
    "                if(vector_entrada2[conexiones_iniciales[0]] + vector_entrada2[conexiones_iniciales[1]] == 1):\n",
    "                    vector_salida.append(1)\n",
    "                else:\n",
    "                    vector_salida.append(0)\n",
    "               \n",
    "            if(puerta == '--'):\n",
    "                    vector_salida.append(0)     \n",
    "    if(i > 0):\n",
    "        for j in range(n):\n",
    "            puerta = circuito[i][j][0]\n",
    "            conexiones = circuito[i][j][1]\n",
    "            valor1 = 0\n",
    "            valor2 = 0\n",
    "            if(puerta == 'AND'):\n",
    "                if(conexiones[0][0] == i-2):\n",
    "                    valor1 = vector_entrada1[conexiones[0][1]]\n",
    "                else:\n",
    "                    valor1 = vector_entrada2[conexiones[0][1]]\n",
    "                if(conexiones[1][0] == i-2):\n",
    "                    valor2 = vector_entrada1[conexiones[1][1]]\n",
    "                else:\n",
    "                    valor2 = vector_entrada2[conexiones[1][1]]\n",
    "                if(valor1 + valor2 == 2):\n",
    "                    vector_salida.append(1)\n",
    "                else:\n",
    "                    vector_salida.append(0)\n",
    "           \n",
    "                \n",
    "            if(puerta == 'OR'):\n",
    "                if(conexiones[0][0] == i-2):\n",
    "                    valor1 = vector_entrada1[conexiones[0][1]]\n",
    "                else:\n",
    "                    valor1 = vector_entrada2[conexiones[0][1]]\n",
    "                if(conexiones[1][0] == i-2):\n",
    "                    valor2 = vector_entrada1[conexiones[1][1]]\n",
    "                else:\n",
    "                    valor2 = vector_entrada2[conexiones[1][1]]\n",
    "                if(valor1 + valor2 >= 1):\n",
    "                    vector_salida.append(1)\n",
    "                else:\n",
    "                    vector_salida.append(0)\n",
    "                    \n",
    "              \n",
    "            if(puerta == 'NOT'):\n",
    "                if(conexiones[0][0] == i-2):\n",
    "                    valor1 = vector_entrada1[conexiones[0][1]]\n",
    "                else:\n",
    "                    valor1 = vector_entrada2[conexiones[0][1]]\n",
    "                \n",
    "                if(valor1 == 0):\n",
    "                    vector_salida.append(1)\n",
    "                else:\n",
    "                    vector_salida.append(0)\n",
    "                    \n",
    "                    \n",
    "              \n",
    "            if(puerta == 'NAND'):\n",
    "                if(conexiones[0][0] == i-2):\n",
    "                    valor1 = vector_entrada1[conexiones[0][1]]\n",
    "                else:\n",
    "                    valor1 = vector_entrada2[conexiones[0][1]]\n",
    "                if(conexiones[1][0] == i-2):\n",
    "                    valor2 = vector_entrada1[conexiones[1][1]]\n",
    "                else:\n",
    "                    valor2 = vector_entrada2[conexiones[1][1]]\n",
    "                \n",
    "                if(valor1 + valor2 == 2):\n",
    "                    vector_salida.append(0)\n",
    "                else:\n",
    "                    vector_salida.append(1)\n",
    "              \n",
    "              \n",
    "            if(puerta == 'XOR'):\n",
    "                if(conexiones[0][0] == i-2):\n",
    "                    valor1 = vector_entrada1[conexiones[0][1]]\n",
    "                else:\n",
    "                    valor1 = vector_entrada2[conexiones[0][1]]\n",
    "                if(conexiones[1][0] == i-2):\n",
    "                    valor2 = vector_entrada1[conexiones[1][1]]\n",
    "                else:\n",
    "                    valor2 = vector_entrada2[conexiones[1][1]]\n",
    "                \n",
    "                if(valor1 + valor2 == 1):\n",
    "                    vector_salida.append(1)\n",
    "                else:\n",
    "                    vector_salida.append(0)\n",
    "            \n",
    "            if(puerta == '--'):\n",
    "                    vector_salida.append(0)     \n",
    "              \n",
    "             \n",
    "    return vector_salida;\n",
    "\n",
    "def resultado_circuito (vector_entrada1, vector_entrada2, circuito, m, n):\n",
    "    vector_salida = []\n",
    "    for i in range(m):\n",
    "        vector_salida = resultado_circuito_capas (vector_entrada1, vector_entrada2, circuito, i, n)\n",
    "        vector_entrada1 = vector_entrada2\n",
    "        vector_entrada2 = vector_salida\n",
    "    return vector_entrada2\n",
    "\n",
    "def circuito_defectuoso (puertas_defectuosas, programacionPuertas, conexiones, ncapas, npuertas):\n",
    "    circuito = estructura_circuito(ncapas,npuertas, programacionPuertas, conexiones)\n",
    "    for i in range(len(puertas_defectuosas)):\n",
    "        circuito[puertas_defectuosas[i][0]][puertas_defectuosas[i][1]][0] = '--'\n",
    "        \n",
    "    return circuito"
   ]
  },
  {
   "cell_type": "markdown",
   "metadata": {},
   "source": [
    "Utilizando el ejemplo anterior calculamos el vector de salida correcto y el obtenido si el circuito estuviera defectuoso"
   ]
  },
  {
   "cell_type": "code",
   "execution_count": 91,
   "metadata": {
    "scrolled": true
   },
   "outputs": [
    {
     "name": "stdout",
     "output_type": "stream",
     "text": [
      "Vector de salida: \n",
      "[1, 1, 0]\n",
      "Vector de salida defectuoso: \n",
      "[0, 1, 0]\n"
     ]
    }
   ],
   "source": [
    "#vector_entrada1 = [0,0,0,0,0] # El vector de entrada uno es 0 al inicio del cálculo\n",
    "vector_entrada1 = [0,0,0]\n",
    "vector_entrada2 = [0,0,0]\n",
    "#vector_entrada2 = [1,1,1,1,1] # Entradas del circuito\n",
    "puertas_defectuosas = [[0,0],[1,0]]\n",
    "\n",
    "vector_salida = resultado_circuito (vector_entrada1.copy(), vector_entrada2.copy(), circuitoReal, ncapas, npuertas)\n",
    "circuitoDefectuoso = circuito_defectuoso(puertas_defectuosas.copy(), programacionPuertasReal, conexionesReal, ncapas, npuertas)\n",
    "vector_salida_defectuoso = resultado_circuito(vector_entrada1.copy(), vector_entrada2.copy(), circuitoDefectuoso, ncapas, npuertas)\n",
    "print(\"Vector de salida: \")\n",
    "print(vector_salida)\n",
    "print(\"Vector de salida defectuoso: \")\n",
    "print(vector_salida_defectuoso)\n"
   ]
  },
  {
   "cell_type": "markdown",
   "metadata": {},
   "source": [
    "# Ejercicio 3"
   ]
  },
  {
   "cell_type": "code",
   "execution_count": 7,
   "metadata": {},
   "outputs": [
    {
     "name": "stdout",
     "output_type": "stream",
     "text": [
      "[[0, 0, 0, 0, 0], [0, 0, 1, 0, 0], [0, 1, 0, 0, 0], [0, 1, 1, 0, 0], [1, 0, 0, 0, 0], [1, 0, 1, 0, 0], [1, 1, 0, 0, 0], [1, 1, 1, 0, 0]]\n",
      "[[0, 1, 0, 0, 1], [0, 0, 0, 1, 1], [0, 0, 0, 1, 1], [0, 0, 0, 1, 1], [0, 1, 0, 0, 1], [0, 0, 0, 1, 1], [0, 0, 1, 1, 1], [0, 0, 1, 1, 1]]\n",
      "[[0, 1, 0, 0, 1], [0, 1, 0, 1, 1], [0, 1, 0, 1, 1], [0, 1, 0, 1, 1], [0, 1, 0, 0, 1], [0, 1, 0, 1, 1], [0, 1, 1, 1, 1], [0, 1, 1, 1, 1]]\n",
      "[0, 0, 0, 0, 0]\n",
      "[0, 1, 0, 0, 1]\n",
      "False\n"
     ]
    }
   ],
   "source": [
    "vectores_entrada_inicial= [[0,0,0],[0,0,1],[0,1,0],[0,1,1],[1,0,0],[1,0,1],[1,1,0],[1,1,1]]\n",
    "\n",
    "def f_vectores_salida(vectores_entrada,vector_entrada1,circuito,ncapas,npuertas):\n",
    "    vec_salida=[]\n",
    "    vectores_entrada_nuevo= calcula_vectores_entrada(vectores_entrada,npuertas)\n",
    "    for i in range(len(vectores_entrada_nuevo)):\n",
    "        vec_salida.append(resultado_circuito(vector_entrada1,vectores_entrada_nuevo[i],circuito,ncapas,npuertas))\n",
    "    return vec_salida\n",
    "\n",
    "#para n mayor que tres, cada vector de entrada se le añadirá un cero, es decir, si n fuese 5, el primer vector de entrada\n",
    "#seria [0,0,0,0,0] y el segundo seria [0,0,1,0,0]. Se le añade tantos ceros según la diferencia de n-3\n",
    "def calcula_vectores_entrada(vectores_entrada,npuertas):\n",
    "    vectores_entrada_nuevo= vectores_entrada\n",
    "\n",
    "    if(npuertas<3):\n",
    "        for i in range(len(vectores_entrada_nuevo)):\n",
    "            vectores_entrada_nuevo.pop()\n",
    "        vectores_entrada_nuevo.append([0,0])\n",
    "        vectores_entrada_nuevo.append([0,1])\n",
    "        vectores_entrada_nuevo.append([1,0])\n",
    "        vectores_entrada_nuevo.append([1,1])\n",
    "    elif (npuertas>3):\n",
    "        vectores_entrada_nuevo=vectores_entrada\n",
    "        for i in range(len(vectores_entrada)):\n",
    "            for j in range(3,npuertas):\n",
    "                vectores_entrada_nuevo[i].append(0)\n",
    "    return vectores_entrada_nuevo\n",
    "\n",
    "\n",
    "def calcula_vectores_salida_defectuosos(vectores_entrada):\n",
    "    vectores_salida_defec=[]\n",
    "\n",
    "    for i in range(len(vectores_entrada)):\n",
    "        circuitoDefectuoso = circuito_defectuoso(puertas_defectuosas, programacionPuertasReal, conexionesReal, ncapas, npuertas)\n",
    "        vect_sal_def = resultado_circuito(vector_entrada1, vectores_entrada[i], circuitoDefectuoso, ncapas, npuertas)\n",
    "        vectores_salida_defec.append(vect_sal_def)\n",
    "    return vectores_salida_defec\n",
    "\n",
    "\n",
    "\n",
    "def auto_diagnostico(vect_ent,vectores_entrada_inicial,vector_entrada1,circuito, puertas_defectuosas,programacionPuertas,conexiones, ncapas,npuertas):\n",
    "    res= False\n",
    "    vectores_e=calcula_vectores_entrada(vectores_entrada_inicial,npuertas)#Vectores entrada\n",
    "\n",
    "    #Calculo el vector de salida defectuoso del vector de entrada que le pasamos por parametro\n",
    "    #vector_sal_def= resultado_circuito_defectuoso(vector_entrada1,vect_ent,puertas_defectuosas,circuito,m,n)\n",
    "    vectores_s= f_vectores_salida(vectores_entrada_inicial,vector_entrada1,circuito,ncapas,npuertas)#Vectores salida\n",
    "\n",
    "    #Compruebo que el vector de salida defectuoso coincide con el vector de salida correcto\n",
    "\n",
    "\n",
    "    for i in range(len(vectores_e)):\n",
    "        for j in range(len(vectores_e[i])):\n",
    "            if(vectores_e[i][j]==vect_ent[j]):\n",
    "                print(vect_ent)\n",
    "                circuitoDefectuoso = circuito_defectuoso(puertas_defectuosas, programacionPuertas, conexiones, ncapas, npuertas)\n",
    "                vect_sal_aux_def = resultado_circuito(vector_entrada1, vect_ent, circuitoDefectuoso, ncapas, npuertas)\n",
    "                vector_salida = vectores_s[i]\n",
    "                print(vector_salida)\n",
    "                \n",
    "                iguales = 0;\n",
    "    \n",
    "                for i in range (len(vector_salida)):\n",
    "                    if(vector_salida[i] == vect_sal_aux_def[i]):\n",
    "                        iguales = iguales + 1;\n",
    "                    break\n",
    "                break\n",
    "            break\n",
    "        break\n",
    "        if(iguales == npuertas):\n",
    "            res = True\n",
    "    return res\n",
    "\n",
    "print(calcula_vectores_entrada(vectores_entrada_inicial,npuertas))\n",
    "print(f_vectores_salida(vectores_entrada_inicial,vector_entrada1, circuitoReal,ncapas,npuertas))\n",
    "print(calcula_vectores_salida_defectuosos(vectores_entrada_inicial))\n",
    "print(auto_diagnostico([0,0,0,0,0], vectores_entrada_inicial,vector_entrada1.copy(),circuitoReal, puertas_defectuosas,programacionPuertasReal,conexionesReal, ncapas,npuertas))\n",
    "\n"
   ]
  },
  {
   "cell_type": "markdown",
   "metadata": {},
   "source": [
    "Vamos a implementar un algoritmo genético que nos encuentre buenos circuitos. En primer lugar importamos los módulos necesarios."
   ]
  },
  {
   "cell_type": "code",
   "execution_count": 66,
   "metadata": {},
   "outputs": [],
   "source": [
    "import random\n",
    "from deap import base, creator, tools, algorithms\n",
    "import numpy"
   ]
  },
  {
   "cell_type": "markdown",
   "metadata": {},
   "source": [
    "A continuación vamos nuestra caja de herramientas y registar todas las funciones relativas a los individuos"
   ]
  },
  {
   "cell_type": "code",
   "execution_count": 67,
   "metadata": {},
   "outputs": [
    {
     "name": "stderr",
     "output_type": "stream",
     "text": [
      "D:\\Anaconda3\\lib\\site-packages\\deap\\creator.py:141: RuntimeWarning: A class named 'Fitness' has already been created and it will be overwritten. Consider deleting previous creation of that class or rename it.\n",
      "  RuntimeWarning)\n",
      "D:\\Anaconda3\\lib\\site-packages\\deap\\creator.py:141: RuntimeWarning: A class named 'Individuo' has already been created and it will be overwritten. Consider deleting previous creation of that class or rename it.\n",
      "  RuntimeWarning)\n"
     ]
    }
   ],
   "source": [
    "creator.create('Fitness', base.Fitness, weights=(1.0,))\n",
    "creator.create('Individuo', list, fitness = creator.Fitness)\n",
    "caja_de_herramientas = base.Toolbox()\n",
    "caja_de_herramientas.register('gen', random.randint, 0, 5)\n",
    "caja_de_herramientas.register('individuo', tools.initRepeat,\n",
    "                              container=creator.Individuo, func=caja_de_herramientas.gen, n=ncapas*npuertas)\n",
    "caja_de_herramientas.register('población', tools.initRepeat,\n",
    "                              container=list, func=caja_de_herramientas.individuo, n=10)"
   ]
  },
  {
   "cell_type": "markdown",
   "metadata": {},
   "source": [
    "Podemos considerar que cada puerta puede ser programada de 6 formas:\n",
    "    - No programada (--) que será representada con el gen 0.\n",
    "    - AND que se representa con el gen 1.\n",
    "    - OR que se representa con el gen 2.\n",
    "    - NOT que se representa con el gen 3.\n",
    "    - XOR que se representa con el gen 4.\n",
    "    - NAND que se representa con el gen 5."
   ]
  },
  {
   "cell_type": "code",
   "execution_count": 68,
   "metadata": {},
   "outputs": [
    {
     "name": "stdout",
     "output_type": "stream",
     "text": [
      "3\n",
      "5\n",
      "0\n",
      "2\n",
      "2\n"
     ]
    }
   ],
   "source": [
    "random.seed(12345)  # Semilla para el mecanismo de generación de números aleatorios\n",
    "for _ in range(5):\n",
    "    print(caja_de_herramientas.gen())"
   ]
  },
  {
   "cell_type": "code",
   "execution_count": 69,
   "metadata": {},
   "outputs": [
    {
     "data": {
      "text/plain": [
       "[3, 5, 0, 2, 2, 1]"
      ]
     },
     "execution_count": 69,
     "metadata": {},
     "output_type": "execute_result"
    }
   ],
   "source": [
    "random.seed(12345)\n",
    "caja_de_herramientas.individuo()"
   ]
  },
  {
   "cell_type": "code",
   "execution_count": 70,
   "metadata": {},
   "outputs": [
    {
     "data": {
      "text/plain": [
       "[[3, 5, 0, 2, 2, 1],\n",
       " [2, 4, 3, 1, 2, 0],\n",
       " [3, 2, 4, 5, 1, 4],\n",
       " [4, 1, 2, 5, 5, 0],\n",
       " [4, 5, 3, 4, 4, 1],\n",
       " [1, 1, 5, 0, 1, 2],\n",
       " [2, 0, 3, 2, 0, 4],\n",
       " [5, 5, 3, 0, 0, 5],\n",
       " [1, 4, 1, 2, 0, 5],\n",
       " [3, 0, 5, 4, 1, 5]]"
      ]
     },
     "execution_count": 70,
     "metadata": {},
     "output_type": "execute_result"
    }
   ],
   "source": [
    "random.seed(12345)\n",
    "caja_de_herramientas.población()"
   ]
  },
  {
   "cell_type": "code",
   "execution_count": 71,
   "metadata": {},
   "outputs": [],
   "source": [
    "def fenotipo(individuo):\n",
    "    programacionPuertas = []\n",
    "    \n",
    "    for i in range(ncapas*npuertas):\n",
    "        if individuo[i] == 0:\n",
    "            programacionPuertas.append('--')\n",
    "        if individuo[i] == 1:\n",
    "            programacionPuertas.append('AND')\n",
    "        if individuo[i] == 2:\n",
    "            programacionPuertas.append('OR')\n",
    "        if individuo[i] == 3:\n",
    "            programacionPuertas.append('NOT')\n",
    "        if individuo[i] == 4:\n",
    "            programacionPuertas.append('XOR')\n",
    "        if individuo[i] == 5:\n",
    "            programacionPuertas.append('NAND')\n",
    "            \n",
    "    return programacionPuertas\n",
    "\n",
    "def evaluar_individuo(individuo):\n",
    "    programacionPuertasAg = fenotipo(individuo)\n",
    "    circuitoAG = estructura_circuito(ncapas,npuertas,  programacionPuertasAg, conexionesReal)\n",
    "    circuitoReal = estructura_circuito(ncapas, npuertas, programacionPuertasReal, conexionesReal)\n",
    "    salidaNueva = resultado_circuito(vector_entrada1.copy(), vector_entrada2.copy(), circuitoAG, ncapas, npuertas)\n",
    "    salidaAntigua = resultado_circuito(vector_entrada1.copy(), vector_entrada2.copy(), circuitoReal, ncapas, npuertas)\n",
    "    iguales = 0;\n",
    "    \n",
    "    for i in range (len(salidaAntigua)):\n",
    "        if(salidaNueva == salidaAntigua):\n",
    "            iguales = iguales + 1;\n",
    "    return (iguales,)\n",
    "    \n",
    "caja_de_herramientas.register('evaluate', evaluar_individuo)    "
   ]
  },
  {
   "cell_type": "code",
   "execution_count": 72,
   "metadata": {},
   "outputs": [
    {
     "data": {
      "text/plain": [
       "(0,)"
      ]
     },
     "execution_count": 72,
     "metadata": {},
     "output_type": "execute_result"
    }
   ],
   "source": [
    "evaluar_individuo([1,2,0,3,1,2,3,4,0,0,0,3,3,1,5])"
   ]
  },
  {
   "cell_type": "markdown",
   "metadata": {},
   "source": [
    "Ahora vamos a registrar los operadores a utilizar en el algoritmo genético, en concreto vamos a registrar los vistos en la práctica. También se añadirá como método de selección de individuos el método de selección por torneo."
   ]
  },
  {
   "cell_type": "code",
   "execution_count": 73,
   "metadata": {},
   "outputs": [],
   "source": [
    "caja_de_herramientas.register('mate', tools.cxOnePoint)\n",
    "caja_de_herramientas.register('mutate', tools.mutFlipBit, indpb=0.1)\n",
    "caja_de_herramientas.register('select', tools.selTournament, tournsize=3)"
   ]
  },
  {
   "cell_type": "code",
   "execution_count": 74,
   "metadata": {},
   "outputs": [
    {
     "data": {
      "text/plain": [
       "[[2, 0, 3, 2, 0, 4], [3, 0, 5, 4, 1, 5]]"
      ]
     },
     "execution_count": 74,
     "metadata": {},
     "output_type": "execute_result"
    }
   ],
   "source": [
    "random.seed(12345)\n",
    "P = caja_de_herramientas.población()\n",
    "caja_de_herramientas.select(P, 2)"
   ]
  },
  {
   "cell_type": "code",
   "execution_count": 93,
   "metadata": {},
   "outputs": [
    {
     "name": "stdout",
     "output_type": "stream",
     "text": [
      "[1, 5, 0, 2, 5, 0] (3,)\n",
      "[0, 5, 0, 2, 5, 0] (3,)\n",
      "[1, 5, 0, 2, 5, 0] (3,)\n",
      "[1, 5, 0, 2, 5, 0] (3,)\n",
      "[1, 5, 1, 2, 5, 0] (3,)\n",
      "[1, 5, 0, 2, 5, 0] (3,)\n",
      "[1, 5, 1, 2, 5, 1] (3,)\n"
     ]
    }
   ],
   "source": [
    "random.seed(12345)\n",
    "tamaño_vector_salida = 3\n",
    "población_inicial = caja_de_herramientas.población()\n",
    "población_final, registro = algorithms.eaSimple(población_inicial,\n",
    "                                                caja_de_herramientas,\n",
    "                                                cxpb=0.5,  # Probabilidad de cruzamiento\n",
    "                                                mutpb=0.5,  # Probabilidad de mutación\n",
    "                                                ngen=100,  # Número de generaciones\n",
    "                                                verbose=False)\n",
    "\n",
    "for individuo in población_final:\n",
    "    if(caja_de_herramientas.evaluate(individuo)[0] == tamaño_vector_salida):\n",
    "        print(individuo, caja_de_herramientas.evaluate(individuo))\n",
    "\n"
   ]
  },
  {
   "cell_type": "code",
   "execution_count": 94,
   "metadata": {},
   "outputs": [],
   "source": [
    "def generarPuertas(ncapas, npuertas, conexiones, puertas_defectuosas, individuo, población_final, vector_entrada1, vector_entrada2):    \n",
    "    circuitos =[]\n",
    "    for individuo in población_final:\n",
    "        programacionPuertasNuevas = []\n",
    "        if(caja_de_herramientas.evaluate(individuo)[0] == tamaño_vector_salida):\n",
    "            programacionPuertasNuevas = fenotipo(individuo)\n",
    "            circuitoNuevo = estructura_circuito(ncapas,npuertas, programacionPuertasNuevas, conexiones)\n",
    "            vector_salida = resultado_circuito (vector_entrada1.copy(), vector_entrada2.copy(), circuitoNuevo, ncapas, npuertas)\n",
    "            circuitoNDefectuoso = circuito_defectuoso(puertas_defectuosas.copy(), programacionPuertasNuevas, conexiones, ncapas, npuertas)\n",
    "            vector_salida_defectuoso = resultado_circuito(vector_entrada1.copy(), vector_entrada2.copy(), circuitoNDefectuoso, ncapas, npuertas)\n",
    "            iguales = 0;\n",
    "            for i in range(len(vector_salida)):\n",
    "                iguales = iguales + abs(vector_salida[i] - vector_salida_defectuoso[i])\n",
    "            if(iguales == 0):\n",
    "                circuitos.append(circuitoNuevo)\n",
    "                print(individuo)\n",
    "                print(programacionPuertasNuevas)\n",
    "                print(\"Vector de salida: \")\n",
    "                print(vector_salida)\n",
    "                print(\"Vector de salida defectuoso: \")\n",
    "                print(vector_salida_defectuoso)\n",
    "\n",
    "    return circuitos\n"
   ]
  },
  {
   "cell_type": "code",
   "execution_count": 80,
   "metadata": {},
   "outputs": [
    {
     "name": "stdout",
     "output_type": "stream",
     "text": [
      "[0, 5, 0, 1, 4, 0]\n",
      "['--', 'NAND', '--', 'AND', 'XOR', '--']\n",
      "Vector de salida: \n",
      "[0, 1, 0]\n",
      "Vector de salida defectuoso: \n",
      "[0, 1, 0]\n",
      "[0, 5, 0, 0, 4, 0]\n",
      "['--', 'NAND', '--', '--', 'XOR', '--']\n",
      "Vector de salida: \n",
      "[0, 1, 0]\n",
      "Vector de salida defectuoso: \n",
      "[0, 1, 0]\n",
      "[1, 5, 0, 1, 4, 0]\n",
      "['AND', 'NAND', '--', 'AND', 'XOR', '--']\n",
      "Vector de salida: \n",
      "[0, 1, 0]\n",
      "Vector de salida defectuoso: \n",
      "[0, 1, 0]\n",
      "[0, 5, 0, 1, 4, 0]\n",
      "['--', 'NAND', '--', 'AND', 'XOR', '--']\n",
      "Vector de salida: \n",
      "[0, 1, 0]\n",
      "Vector de salida defectuoso: \n",
      "[0, 1, 0]\n",
      "[0, 5, 0, 1, 4, 0]\n",
      "['--', 'NAND', '--', 'AND', 'XOR', '--']\n",
      "Vector de salida: \n",
      "[0, 1, 0]\n",
      "Vector de salida defectuoso: \n",
      "[0, 1, 0]\n",
      "[0, 5, 1, 1, 4, 0]\n",
      "['--', 'NAND', 'AND', 'AND', 'XOR', '--']\n",
      "Vector de salida: \n",
      "[0, 1, 0]\n",
      "Vector de salida defectuoso: \n",
      "[0, 1, 0]\n",
      "[0, 5, 0, 1, 4, 0]\n",
      "['--', 'NAND', '--', 'AND', 'XOR', '--']\n",
      "Vector de salida: \n",
      "[0, 1, 0]\n",
      "Vector de salida defectuoso: \n",
      "[0, 1, 0]\n",
      "[0, 5, 1, 1, 4, 1]\n",
      "['--', 'NAND', 'AND', 'AND', 'XOR', 'AND']\n",
      "Vector de salida: \n",
      "[0, 1, 0]\n",
      "Vector de salida defectuoso: \n",
      "[0, 1, 0]\n"
     ]
    }
   ],
   "source": [
    "circuitos = generarPuertas(ncapas, npuertas, conexionesReal.copy(), puertas_defectuosas.copy(), individuo, población_final, vector_entrada1.copy(), vector_entrada2.copy())"
   ]
  },
  {
   "cell_type": "markdown",
   "metadata": {},
   "source": [
    "Si sólo cambiando las puertas y no encontramos una solución, entonces tendremos que cambiar las conexiones"
   ]
  },
  {
   "cell_type": "code",
   "execution_count": 81,
   "metadata": {},
   "outputs": [],
   "source": [
    "caja_de_herramientas2 = base.Toolbox()\n",
    "caja_de_herramientas2.register('gen', random.randint, 0, ncapas*npuertas-1)\n",
    "caja_de_herramientas2.register('individuo', tools.initRepeat,\n",
    "                              container=creator.Individuo, func=caja_de_herramientas2.gen, n=2*ncapas*npuertas)\n",
    "caja_de_herramientas2.register('población', tools.initRepeat,\n",
    "                              container=list, func=caja_de_herramientas2.individuo, n=10)"
   ]
  },
  {
   "cell_type": "code",
   "execution_count": 82,
   "metadata": {},
   "outputs": [
    {
     "data": {
      "text/plain": [
       "[3, 5, 0, 2, 2, 1, 2, 4, 3, 1, 2, 0]"
      ]
     },
     "execution_count": 82,
     "metadata": {},
     "output_type": "execute_result"
    }
   ],
   "source": [
    "random.seed(12345)\n",
    "caja_de_herramientas2.individuo()\n"
   ]
  },
  {
   "cell_type": "code",
   "execution_count": 83,
   "metadata": {},
   "outputs": [],
   "source": [
    "def fenotipo2(individuo):\n",
    "    conexiones = []\n",
    "    cuentaPuerta = 0;\n",
    "    conexion1 = 0;\n",
    "    conexion2 = 0;\n",
    "    \n",
    "    for i in range(ncapas*npuertas):\n",
    "        conexionPuertaI =[]\n",
    "        conexionPuertaI.append(decodeConexion(individuo[cuentaPuerta]))  \n",
    "        cuentaPuerta = cuentaPuerta + 1\n",
    "        conexionPuertaI.append(decodeConexion(individuo[cuentaPuerta]))\n",
    "        cuentaPuerta = cuentaPuerta + 1\n",
    "        conexiones.append(conexionPuertaI)\n",
    "    return conexiones\n",
    "\n",
    "def decodeConexion(conexion):\n",
    "    puerta = []\n",
    "    if(conexion < npuertas):\n",
    "        puerta = conexion\n",
    "    else:\n",
    "        for i in range(ncapas):\n",
    "            if(conexion - (i+1)*npuertas < 5 and conexion - (i+1)*npuertas >= 0):\n",
    "                puerta.append(i)\n",
    "                puerta.append(conexion - (i+1)*npuertas)\n",
    "       \n",
    "    return puerta   \n",
    "\n",
    "def penaliza(circuito):\n",
    "    penalizacion = 0;\n",
    "    for i in range(ncapas):\n",
    "        if (i == 0):\n",
    "            for j in range(npuertas):\n",
    "                if (type(circuito[i][j][1][0]) != int):\n",
    "                    penalizacion = penalizacion + 1\n",
    "                    \n",
    "                if (type(circuito[i][j][1][1]) != int):\n",
    "                    penalizacion = penalizacion + 1\n",
    "        if(i > 0):\n",
    "             for j in range(npuertas):\n",
    "                \n",
    "                if (type(circuito[i][j][1][0]) == int):\n",
    "                    penalizacion = penalizacion + 1\n",
    "                else:\n",
    "                    if (circuito[i][j][1][0][0] > i or circuito[i][j][1][0][0] < i-2):\n",
    "                        penalizacion = penalizacion +1\n",
    "                if (type(circuito[i][j][1][1]) == int):\n",
    "                    penalizacion = penalizacion + 1\n",
    "                else:\n",
    "                    if (circuito[i][j][1][1][0] > i or circuito[i][j][1][1][0] < i-2):\n",
    "                        penalizacion = penalizacion +1\n",
    "    return penalizacion\n",
    "        \n",
    "\n",
    "def evaluar_individuo2(individuo):\n",
    "    penalizacion = 0;\n",
    "    conexiones = fenotipo2(individuo)\n",
    "    circuitoAGConexiones = estructura_circuito(ncapas,npuertas, programacionPuertasAG, conexiones)\n",
    "    penalizacion = penaliza(circuitoAG)\n",
    "    #circuitoAGPuertas = estructura_circuito(ncapas, npuertas, programacionPuertasReal, conexionesReal)\n",
    "    iguales = 0;\n",
    "    if(penalizacion == 0):\n",
    "        salidaNueva = resultado_circuito(vector_entrada1.copy(), vector_entrada2.copy(), circuitoAGConexiones, ncapas, npuertas)\n",
    "        salidaAntigua = resultado_circuito(vector_entrada1.copy(), vector_entrada2.copy(), circuitoAGPuertas, ncapas, npuertas)\n",
    "        \n",
    "    \n",
    "        for i in range (len(salidaAntigua)):\n",
    "            if(salidaNueva == salidaAntigua):\n",
    "                iguales = iguales + 1;\n",
    "        iguales = iguales \n",
    "    else:\n",
    "        iguales = - penalizacion\n",
    "    return (iguales,)\n",
    "    \n",
    "caja_de_herramientas2.register('evaluate', evaluar_individuo2)    "
   ]
  },
  {
   "cell_type": "code",
   "execution_count": null,
   "metadata": {},
   "outputs": [],
   "source": []
  },
  {
   "cell_type": "code",
   "execution_count": 84,
   "metadata": {},
   "outputs": [],
   "source": [
    "caja_de_herramientas2.register('mate', tools.cxOnePoint)\n",
    "caja_de_herramientas2.register('mutate', tools.mutFlipBit, indpb=0.1)\n",
    "caja_de_herramientas2.register('select', tools.selTournament, tournsize=3)"
   ]
  },
  {
   "cell_type": "code",
   "execution_count": 85,
   "metadata": {},
   "outputs": [
    {
     "name": "stdout",
     "output_type": "stream",
     "text": [
      "[1, 0, 1, 1, 1, 1, 3, 4, 4, 3, 3, 5] 3\n"
     ]
    }
   ],
   "source": [
    "mejorIndividuo = []\n",
    "mejorValor = -10000\n",
    "for i in range(10):\n",
    "    random.seed(i)\n",
    "    tamaño_vector_salida = 5\n",
    "    población_inicial2 = caja_de_herramientas2.población()\n",
    "    población_final2, registro2 = algorithms.eaSimple(población_inicial2,\n",
    "                                                caja_de_herramientas2,\n",
    "                                                cxpb=0.5,  # Probabilidad de cruzamiento\n",
    "                                                mutpb=0.5,  # Probabilidad de mutación\n",
    "                                                ngen=100,  # Número de generaciones\n",
    "                                                verbose=False)\n",
    "    for individuo in población_final2:\n",
    "        if(caja_de_herramientas2.evaluate(individuo)[0] > mejorValor):\n",
    "            mejorIndividuo = individuo\n",
    "            mejorValor = caja_de_herramientas2.evaluate(individuo)[0]\n",
    "print(mejorIndividuo, mejorValor)"
   ]
  },
  {
   "cell_type": "code",
   "execution_count": null,
   "metadata": {},
   "outputs": [],
   "source": []
  },
  {
   "cell_type": "code",
   "execution_count": null,
   "metadata": {},
   "outputs": [],
   "source": []
  }
 ],
 "metadata": {
  "kernelspec": {
   "display_name": "Python 3",
   "language": "python",
   "name": "python3"
  },
  "language_info": {
   "codemirror_mode": {
    "name": "ipython",
    "version": 3
   },
   "file_extension": ".py",
   "mimetype": "text/x-python",
   "name": "python",
   "nbconvert_exporter": "python",
   "pygments_lexer": "ipython3",
   "version": "3.6.4"
  }
 },
 "nbformat": 4,
 "nbformat_minor": 2
}
